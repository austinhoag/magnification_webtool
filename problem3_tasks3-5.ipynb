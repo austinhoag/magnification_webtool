{
 "cells": [
  {
   "cell_type": "markdown",
   "metadata": {},
   "source": [
    "**Task 3​: write a datajoint pipeline, as you have outlined in (2). As a guiding tutorial, we have provided you with the file ​datajoint_example.ipynb​ . Remember to include a “computed” blocks, including the one for the log-Gaussian and the Poissonian fit.**"
   ]
  },
  {
   "cell_type": "code",
   "execution_count": 390,
   "metadata": {},
   "outputs": [],
   "source": [
    "import datajoint as dj\n",
    "import pylab as pl\n",
    "import numpy as np\n",
    "from scipy import stats\n",
    "import os\n",
    "%matplotlib inline"
   ]
  },
  {
   "cell_type": "markdown",
   "metadata": {},
   "source": [
    "I downloaded the Docker image of the MySQL database"
   ]
  },
  {
   "cell_type": "code",
   "execution_count": 391,
   "metadata": {},
   "outputs": [
    {
     "data": {
      "text/plain": [
       "DataJoint connection (disconnected) root@localhost:3306"
      ]
     },
     "execution_count": 391,
     "metadata": {},
     "output_type": "execute_result"
    }
   ],
   "source": [
    "dj.conn()"
   ]
  },
  {
   "cell_type": "markdown",
   "metadata": {},
   "source": [
    "## 1) Defining the relational structure of the database"
   ]
  },
  {
   "cell_type": "markdown",
   "metadata": {},
   "source": [
    "Define the schema to work in. Just use the same as given in the example."
   ]
  },
  {
   "cell_type": "code",
   "execution_count": 392,
   "metadata": {},
   "outputs": [
    {
     "name": "stderr",
     "output_type": "stream",
     "text": [
      "/Users/athoag/.conda/envs/finance/lib/python3.7/site-packages/datajoint/connection.py:150: UserWarning: Mysql server has gone away. Reconnecting to the server.\n",
      "  warnings.warn(\"Mysql server has gone away. Reconnecting to the server.\")\n"
     ]
    }
   ],
   "source": [
    "schema = dj.schema('neuron_test6') "
   ]
  },
  {
   "cell_type": "markdown",
   "metadata": {},
   "source": [
    "## Relational structure\n",
    "\n",
    "Let's start with the same types of tables as in the example: Lookup, Manual, Imported. \n",
    "\n",
    "User() and Experiment() are the same as in the example, but the Set() table is different because we need to ingest the 8 data files."
   ]
  },
  {
   "cell_type": "code",
   "execution_count": 396,
   "metadata": {},
   "outputs": [],
   "source": [
    "@schema\n",
    "class User(dj.Lookup):\n",
    "    definition = \"\"\"\n",
    "    # users in the lab\n",
    "    username : varchar(20)      # user in the lab\n",
    "    ---\n",
    "    first_name  : varchar(20)   # user first name\n",
    "    last_name   : varchar(20)   # user last name\n",
    "    \"\"\"\n",
    "    contents = [\n",
    "        ['Angus', 'Angus', 'Macguyver'],\n",
    "        ['John', 'John', 'Doe'],\n",
    "    ]\n",
    "\n",
    "@schema\n",
    "class Experiment(dj.Manual):\n",
    "    definition = \"\"\" # The neuron spike experiments of Angus and John\n",
    "    -> User\n",
    "    experiment : int    # allowed here are sql datatypes.\n",
    "    ----\n",
    "    \"\"\"\n",
    "    \n",
    "@schema\n",
    "class Set(dj.Imported):\n",
    "    definition = \"\"\"\n",
    "    # A set of datapoints\n",
    "    -> Experiment\n",
    "    -----\n",
    "    \"\"\"\n",
    "\n",
    "    class DataPoint(dj.Part):\n",
    "        definition = \"\"\"\n",
    "        # Collected data.\n",
    "        -> Set\n",
    "        datapoint : int\n",
    "        -----\n",
    "        x : float\n",
    "        y : float\n",
    "        \"\"\"\n",
    "\n",
    "    def _make_tuples(self, key):\n",
    "        # This allows to call a method s.populate() to\n",
    "        # automatically populate the data with content\n",
    "        # from the experiment data files\n",
    "        # The key is a dict for each row in the Experiment table, e.g.:\n",
    "        # {'username': 'Angus', 'experiment': 0}\n",
    "        \n",
    "        self.insert1(key)\n",
    "        username = key['username']\n",
    "        experiment = key['experiment']\n",
    "\n",
    "        # Get data from the data file for this username/experiment combo\n",
    "        filename = './data/{0}_experiment_{1}.dat'.format(username.lower(),experiment)\n",
    "        data = np.genfromtxt(filename)\n",
    "        tbins = np.arange(0, 60, 0.00005) # 1 min recording with 50 microsecond intervals\n",
    "        b=[]\n",
    "        for i in range(len(data)):\n",
    "            # username, experiment, datapoint_index, x, y\n",
    "            b.append(dict(key, datapoint=i, x=tbins[i],y=data[i]))\n",
    "        self.DataPoint().insert(b)"
   ]
  },
  {
   "cell_type": "markdown",
   "metadata": {},
   "source": [
    "## Enter in the experiments for Angus and John\n",
    "From the downloaded .dat files, we have 3 experiments for Angus and 5 for John. Let's enter those into the Experiment table."
   ]
  },
  {
   "cell_type": "code",
   "execution_count": 118,
   "metadata": {},
   "outputs": [],
   "source": [
    "Experiment().insert((['Angus',0],['John',0]), skip_duplicates = True)\n",
    "Experiment().insert((['Angus',1],['John',1]), skip_duplicates = True)\n",
    "Experiment().insert((['Angus',2],['John',2]), skip_duplicates = True)\n",
    "Experiment().insert((['John',3],['John',4]), skip_duplicates = True)"
   ]
  },
  {
   "cell_type": "code",
   "execution_count": 395,
   "metadata": {},
   "outputs": [
    {
     "data": {
      "text/html": [
       "\n",
       "        \n",
       "        <style type=\"text/css\">\n",
       "            .Relation{\n",
       "                border-collapse:collapse;\n",
       "            }\n",
       "            .Relation th{\n",
       "                background: #A0A0A0; color: #ffffff; padding:4px; border:#f0e0e0 1px solid;\n",
       "                font-weight: normal; font-family: monospace; font-size: 100%;\n",
       "            }\n",
       "            .Relation td{\n",
       "                padding:4px; border:#f0e0e0 1px solid; font-size:100%;\n",
       "            }\n",
       "            .Relation tr:nth-child(odd){\n",
       "                background: #ffffff;\n",
       "            }\n",
       "            .Relation tr:nth-child(even){\n",
       "                background: #f3f1ff;\n",
       "            }\n",
       "            /* Tooltip container */\n",
       "            .djtooltip {\n",
       "            }\n",
       "            /* Tooltip text */\n",
       "            .djtooltip .djtooltiptext {\n",
       "                visibility: hidden;\n",
       "                width: 120px;\n",
       "                background-color: black;\n",
       "                color: #fff;\n",
       "                text-align: center;\n",
       "                padding: 5px 0;\n",
       "                border-radius: 6px;\n",
       "                /* Position the tooltip text - see examples below! */\n",
       "                position: absolute;\n",
       "                z-index: 1;\n",
       "            }\n",
       "            #primary {\n",
       "                font-weight: bold;\n",
       "                color: black;\n",
       "            }\n",
       "\n",
       "            #nonprimary {\n",
       "                font-weight: normal;\n",
       "                color: white;\n",
       "            }\n",
       "\n",
       "            /* Show the tooltip text when you mouse over the tooltip container */\n",
       "            .djtooltip:hover .djtooltiptext {\n",
       "                visibility: visible;\n",
       "            }\n",
       "        </style>\n",
       "        \n",
       "        <b>The neuron spike experiments of Angus and John</b>\n",
       "            <div style=\"max-height:1000px;max-width:1500px;overflow:auto;\">\n",
       "            <table border=\"1\" class=\"Relation\">\n",
       "                <thead> <tr style=\"text-align: right;\"> <th> <div class=\"djtooltip\">\n",
       "                                <p id=\"primary\">username</p>\n",
       "                                <span class=\"djtooltiptext\">user in the lab</span>\n",
       "                            </div></th><th><div class=\"djtooltip\">\n",
       "                                <p id=\"primary\">experiment</p>\n",
       "                                <span class=\"djtooltiptext\">allowed here are sql datatypes.</span>\n",
       "                            </div> </th> </tr> </thead>\n",
       "                <tbody> <tr> <td>Angus</td>\n",
       "<td>0</td></tr><tr><td>Angus</td>\n",
       "<td>1</td></tr><tr><td>Angus</td>\n",
       "<td>2</td></tr><tr><td>John</td>\n",
       "<td>0</td></tr><tr><td>John</td>\n",
       "<td>1</td></tr><tr><td>John</td>\n",
       "<td>2</td></tr><tr><td>John</td>\n",
       "<td>3</td></tr><tr><td>John</td>\n",
       "<td>4</td> </tr> </tbody>\n",
       "            </table>\n",
       "            \n",
       "            <p>Total: 8</p></div>\n",
       "            "
      ],
      "text/plain": [
       "*username    *experiment   \n",
       "+----------+ +------------+\n",
       "Angus        0             \n",
       "Angus        1             \n",
       "Angus        2             \n",
       "John         0             \n",
       "John         1             \n",
       "John         2             \n",
       "John         3             \n",
       "John         4             \n",
       " (Total: 8)"
      ]
     },
     "execution_count": 395,
     "metadata": {},
     "output_type": "execute_result"
    }
   ],
   "source": [
    "Experiment()"
   ]
  },
  {
   "cell_type": "markdown",
   "metadata": {},
   "source": [
    "**Task 4​: After constructing the database, populate it with all the datafiles in the /data folder (use populate).**\n",
    "\n",
    "I will include the Computed tables below, but before I do that I can already populate the Set() table"
   ]
  },
  {
   "cell_type": "code",
   "execution_count": 120,
   "metadata": {},
   "outputs": [],
   "source": [
    "Set().populate()"
   ]
  },
  {
   "cell_type": "code",
   "execution_count": 144,
   "metadata": {},
   "outputs": [
    {
     "data": {
      "text/html": [
       "\n",
       "        \n",
       "        <style type=\"text/css\">\n",
       "            .Relation{\n",
       "                border-collapse:collapse;\n",
       "            }\n",
       "            .Relation th{\n",
       "                background: #A0A0A0; color: #ffffff; padding:4px; border:#f0e0e0 1px solid;\n",
       "                font-weight: normal; font-family: monospace; font-size: 100%;\n",
       "            }\n",
       "            .Relation td{\n",
       "                padding:4px; border:#f0e0e0 1px solid; font-size:100%;\n",
       "            }\n",
       "            .Relation tr:nth-child(odd){\n",
       "                background: #ffffff;\n",
       "            }\n",
       "            .Relation tr:nth-child(even){\n",
       "                background: #f3f1ff;\n",
       "            }\n",
       "            /* Tooltip container */\n",
       "            .djtooltip {\n",
       "            }\n",
       "            /* Tooltip text */\n",
       "            .djtooltip .djtooltiptext {\n",
       "                visibility: hidden;\n",
       "                width: 120px;\n",
       "                background-color: black;\n",
       "                color: #fff;\n",
       "                text-align: center;\n",
       "                padding: 5px 0;\n",
       "                border-radius: 6px;\n",
       "                /* Position the tooltip text - see examples below! */\n",
       "                position: absolute;\n",
       "                z-index: 1;\n",
       "            }\n",
       "            #primary {\n",
       "                font-weight: bold;\n",
       "                color: black;\n",
       "            }\n",
       "\n",
       "            #nonprimary {\n",
       "                font-weight: normal;\n",
       "                color: white;\n",
       "            }\n",
       "\n",
       "            /* Show the tooltip text when you mouse over the tooltip container */\n",
       "            .djtooltip:hover .djtooltiptext {\n",
       "                visibility: visible;\n",
       "            }\n",
       "        </style>\n",
       "        \n",
       "        <b>A set of datapoints</b>\n",
       "            <div style=\"max-height:1000px;max-width:1500px;overflow:auto;\">\n",
       "            <table border=\"1\" class=\"Relation\">\n",
       "                <thead> <tr style=\"text-align: right;\"> <th> <div class=\"djtooltip\">\n",
       "                                <p id=\"primary\">username</p>\n",
       "                                <span class=\"djtooltiptext\">user in the lab</span>\n",
       "                            </div></th><th><div class=\"djtooltip\">\n",
       "                                <p id=\"primary\">experiment</p>\n",
       "                                <span class=\"djtooltiptext\">allowed here are sql datatypes.</span>\n",
       "                            </div> </th> </tr> </thead>\n",
       "                <tbody> <tr> <td>Angus</td>\n",
       "<td>0</td></tr><tr><td>Angus</td>\n",
       "<td>1</td></tr><tr><td>Angus</td>\n",
       "<td>2</td></tr><tr><td>John</td>\n",
       "<td>0</td></tr><tr><td>John</td>\n",
       "<td>1</td></tr><tr><td>John</td>\n",
       "<td>2</td></tr><tr><td>John</td>\n",
       "<td>3</td></tr><tr><td>John</td>\n",
       "<td>4</td> </tr> </tbody>\n",
       "            </table>\n",
       "            \n",
       "            <p>Total: 8</p></div>\n",
       "            "
      ],
      "text/plain": [
       "*username    *experiment   \n",
       "+----------+ +------------+\n",
       "Angus        0             \n",
       "Angus        1             \n",
       "Angus        2             \n",
       "John         0             \n",
       "John         1             \n",
       "John         2             \n",
       "John         3             \n",
       "John         4             \n",
       " (Total: 8)"
      ]
     },
     "execution_count": 144,
     "metadata": {},
     "output_type": "execute_result"
    }
   ],
   "source": [
    "Set() # Now there are 8 datasets in the database"
   ]
  },
  {
   "cell_type": "code",
   "execution_count": 145,
   "metadata": {},
   "outputs": [
    {
     "data": {
      "text/html": [
       "\n",
       "        \n",
       "        <style type=\"text/css\">\n",
       "            .Relation{\n",
       "                border-collapse:collapse;\n",
       "            }\n",
       "            .Relation th{\n",
       "                background: #A0A0A0; color: #ffffff; padding:4px; border:#f0e0e0 1px solid;\n",
       "                font-weight: normal; font-family: monospace; font-size: 100%;\n",
       "            }\n",
       "            .Relation td{\n",
       "                padding:4px; border:#f0e0e0 1px solid; font-size:100%;\n",
       "            }\n",
       "            .Relation tr:nth-child(odd){\n",
       "                background: #ffffff;\n",
       "            }\n",
       "            .Relation tr:nth-child(even){\n",
       "                background: #f3f1ff;\n",
       "            }\n",
       "            /* Tooltip container */\n",
       "            .djtooltip {\n",
       "            }\n",
       "            /* Tooltip text */\n",
       "            .djtooltip .djtooltiptext {\n",
       "                visibility: hidden;\n",
       "                width: 120px;\n",
       "                background-color: black;\n",
       "                color: #fff;\n",
       "                text-align: center;\n",
       "                padding: 5px 0;\n",
       "                border-radius: 6px;\n",
       "                /* Position the tooltip text - see examples below! */\n",
       "                position: absolute;\n",
       "                z-index: 1;\n",
       "            }\n",
       "            #primary {\n",
       "                font-weight: bold;\n",
       "                color: black;\n",
       "            }\n",
       "\n",
       "            #nonprimary {\n",
       "                font-weight: normal;\n",
       "                color: white;\n",
       "            }\n",
       "\n",
       "            /* Show the tooltip text when you mouse over the tooltip container */\n",
       "            .djtooltip:hover .djtooltiptext {\n",
       "                visibility: visible;\n",
       "            }\n",
       "        </style>\n",
       "        \n",
       "        <b>Collected data.</b>\n",
       "            <div style=\"max-height:1000px;max-width:1500px;overflow:auto;\">\n",
       "            <table border=\"1\" class=\"Relation\">\n",
       "                <thead> <tr style=\"text-align: right;\"> <th> <div class=\"djtooltip\">\n",
       "                                <p id=\"primary\">username</p>\n",
       "                                <span class=\"djtooltiptext\">user in the lab</span>\n",
       "                            </div></th><th><div class=\"djtooltip\">\n",
       "                                <p id=\"primary\">experiment</p>\n",
       "                                <span class=\"djtooltiptext\">allowed here are sql datatypes.</span>\n",
       "                            </div></th><th><div class=\"djtooltip\">\n",
       "                                <p id=\"primary\">datapoint</p>\n",
       "                                <span class=\"djtooltiptext\"></span>\n",
       "                            </div></th><th><div class=\"djtooltip\">\n",
       "                                <p id=\"nonprimary\">x</p>\n",
       "                                <span class=\"djtooltiptext\"></span>\n",
       "                            </div></th><th><div class=\"djtooltip\">\n",
       "                                <p id=\"nonprimary\">y</p>\n",
       "                                <span class=\"djtooltiptext\"></span>\n",
       "                            </div> </th> </tr> </thead>\n",
       "                <tbody> <tr> <td>Angus</td>\n",
       "<td>0</td>\n",
       "<td>0</td>\n",
       "<td>0.0</td>\n",
       "<td>-0.0700399</td></tr><tr><td>Angus</td>\n",
       "<td>0</td>\n",
       "<td>1</td>\n",
       "<td>5e-05</td>\n",
       "<td>-0.82838</td></tr><tr><td>Angus</td>\n",
       "<td>0</td>\n",
       "<td>2</td>\n",
       "<td>0.0001</td>\n",
       "<td>0.60465</td></tr><tr><td>Angus</td>\n",
       "<td>0</td>\n",
       "<td>3</td>\n",
       "<td>0.00015</td>\n",
       "<td>1.08835</td></tr><tr><td>Angus</td>\n",
       "<td>0</td>\n",
       "<td>4</td>\n",
       "<td>0.0002</td>\n",
       "<td>-0.370709</td></tr><tr><td>Angus</td>\n",
       "<td>0</td>\n",
       "<td>5</td>\n",
       "<td>0.00025</td>\n",
       "<td>-1.1994</td></tr><tr><td>Angus</td>\n",
       "<td>0</td>\n",
       "<td>6</td>\n",
       "<td>0.0003</td>\n",
       "<td>1.95765</td></tr><tr><td>Angus</td>\n",
       "<td>0</td>\n",
       "<td>7</td>\n",
       "<td>0.00035</td>\n",
       "<td>-0.0699648</td></tr><tr><td>Angus</td>\n",
       "<td>0</td>\n",
       "<td>8</td>\n",
       "<td>0.0004</td>\n",
       "<td>4.39331</td></tr><tr><td>Angus</td>\n",
       "<td>0</td>\n",
       "<td>9</td>\n",
       "<td>0.00045</td>\n",
       "<td>-0.0692801</td></tr><tr><td>Angus</td>\n",
       "<td>0</td>\n",
       "<td>10</td>\n",
       "<td>0.0005</td>\n",
       "<td>-1.3575</td></tr><tr><td>Angus</td>\n",
       "<td>0</td>\n",
       "<td>11</td>\n",
       "<td>0.00055</td>\n",
       "<td>1.33136</td> </tr> </tbody>\n",
       "            </table>\n",
       "            <p>...</p>\n",
       "            <p>Total: 9600000</p></div>\n",
       "            "
      ],
      "text/plain": [
       "*username    *experiment    *datapoint    x           y             \n",
       "+----------+ +------------+ +-----------+ +---------+ +------------+\n",
       "Angus        0              0             0.0         -0.0700399    \n",
       "Angus        0              1             5e-05       -0.82838      \n",
       "Angus        0              2             0.0001      0.60465       \n",
       "Angus        0              3             0.00015     1.08835       \n",
       "Angus        0              4             0.0002      -0.370709     \n",
       "Angus        0              5             0.00025     -1.1994       \n",
       "Angus        0              6             0.0003      1.95765       \n",
       "Angus        0              7             0.00035     -0.0699648    \n",
       "Angus        0              8             0.0004      4.39331       \n",
       "Angus        0              9             0.00045     -0.0692801    \n",
       "Angus        0              10            0.0005      -1.3575       \n",
       "Angus        0              11            0.00055     1.33136       \n",
       "   ...\n",
       " (Total: 9600000)"
      ]
     },
     "execution_count": 145,
     "metadata": {},
     "output_type": "execute_result"
    }
   ],
   "source": [
    "Set().DataPoint() # With a set of datapoints"
   ]
  },
  {
   "cell_type": "markdown",
   "metadata": {},
   "source": [
    "## Add a table for computing the peak interval distribution"
   ]
  },
  {
   "cell_type": "markdown",
   "metadata": {},
   "source": [
    "Let's add a new table, Peakhist() to the database that calculates the peak interval distribution from the data points stored in the Set().DataPoint() table. The table is of type Computed because it only depends on data internal to the database, i.e. it can be recreated easily without external data."
   ]
  },
  {
   "cell_type": "code",
   "execution_count": 331,
   "metadata": {},
   "outputs": [],
   "source": [
    "@schema\n",
    "class Peakhist(dj.Computed):\n",
    "    definition = \"\"\"\n",
    "    # calculates the peak interval histogram\n",
    "    -> Set\n",
    "    -----\n",
    "    \"\"\"\n",
    "\n",
    "    class DataPoint(dj.Part):\n",
    "        definition = \"\"\"\n",
    "        # Collected data.\n",
    "        -> Peakhist\n",
    "        datapoint : int\n",
    "        -----\n",
    "        bin_cen : float\n",
    "        prob : float\n",
    "        \"\"\"\n",
    "\n",
    "    def _make_tuples(self, key):\n",
    "        # This allows to call a method s.populate()\n",
    "        \n",
    "        self.insert1(key)\n",
    "        data  = (Set().DataPoint() & key)\n",
    "        x, y = data.fetch('x','y') # time step and voltage\n",
    "        threshold = -3*np.std(y) # use -3 standard deviations because -5 gave zero spikes for John, 1\n",
    "        above = (y < threshold)\n",
    "        spikes = above[1:] < above[0:-1]\n",
    "        spikeTimes = x[np.where(spikes)]\n",
    "        spikeVoltages = y[np.where(spikes)]\n",
    "        ISI = np.diff(spikeTimes)\n",
    "        Ns,bin_edges = np.histogram(ISI*1000, bins=30)\n",
    "        probabilities = Ns/np.sum(Ns)\n",
    "        bin_cens = [(bin_edges[i]+bin_edges[i+1])/2 for i in range(len(bin_edges)-1)]\n",
    "        b = []\n",
    "        for i in range(len(bin_cens)):\n",
    "            b.append(dict(key,datapoint=i,bin_cen=bin_cens[i], prob=probabilities[i]))\n",
    "        self.DataPoint().insert(b)"
   ]
  },
  {
   "cell_type": "code",
   "execution_count": 296,
   "metadata": {},
   "outputs": [],
   "source": [
    "Peakhist().populate()"
   ]
  },
  {
   "cell_type": "markdown",
   "metadata": {},
   "source": [
    "Now we are ready to fit the models to the data"
   ]
  },
  {
   "cell_type": "markdown",
   "metadata": {},
   "source": [
    "## Log-normal fitter\n",
    "Here we add a Computed-type table to calculate and store the best-fit parameters of a log-normal to the peak interval distribution we found with the Peakhist() table."
   ]
  },
  {
   "cell_type": "code",
   "execution_count": 298,
   "metadata": {},
   "outputs": [],
   "source": [
    "import scipy.optimize as opt\n",
    "import scipy as sc\n",
    "\n",
    "def normpdf(x, mu, sd, denom):\n",
    "    num = np.exp(-(x-mu)**2/(2*sd*sd))\n",
    "    return num/denom"
   ]
  },
  {
   "cell_type": "code",
   "execution_count": 397,
   "metadata": {},
   "outputs": [
    {
     "name": "stderr",
     "output_type": "stream",
     "text": [
      "/Users/athoag/.conda/envs/finance/lib/python3.7/site-packages/datajoint/connection.py:150: UserWarning: Mysql server has gone away. Reconnecting to the server.\n",
      "  warnings.warn(\"Mysql server has gone away. Reconnecting to the server.\")\n"
     ]
    }
   ],
   "source": [
    "@schema\n",
    "class Lognormal(dj.Computed):\n",
    "    definition = \"\"\"\n",
    "    # calculates the fitparameters of the log normal\n",
    "    -> Set\n",
    "    -----\n",
    "    mu    : float\n",
    "    sd    : float\n",
    "    denom : float\n",
    "    \"\"\"\n",
    "    \n",
    "    def _make_tuples(self, key):\n",
    "        data  = (Peakhist().DataPoint() & key)\n",
    "        bin_cens, probs = data.fetch('bin_cen','prob')\n",
    "        try: # had to add this because in one experiment the fit was unsuccessful \n",
    "            popt, pcov = opt.curve_fit(normpdf, np.log(bin_cens), probs,maxfev=10000)\n",
    "            mu,sd,denom=popt\n",
    "        # In the case of an unsuccessful fit,\n",
    "        # we need to provide an entry. I chose fit values of \n",
    "        # -9999 as this is unphysical, but a masked or non-numeric value might be \n",
    "        # better as -9999 will still show up in a query.\n",
    "        except RuntimeError: \n",
    "            mu,sd,denom = -9999,-9999,-9999\n",
    "\n",
    "        self.insert1(dict(key, mu = mu, sd = sd, denom = denom))"
   ]
  },
  {
   "cell_type": "code",
   "execution_count": 340,
   "metadata": {},
   "outputs": [],
   "source": [
    "Lognormal().populate()"
   ]
  },
  {
   "cell_type": "code",
   "execution_count": 341,
   "metadata": {},
   "outputs": [
    {
     "data": {
      "text/html": [
       "\n",
       "        \n",
       "        <style type=\"text/css\">\n",
       "            .Relation{\n",
       "                border-collapse:collapse;\n",
       "            }\n",
       "            .Relation th{\n",
       "                background: #A0A0A0; color: #ffffff; padding:4px; border:#f0e0e0 1px solid;\n",
       "                font-weight: normal; font-family: monospace; font-size: 100%;\n",
       "            }\n",
       "            .Relation td{\n",
       "                padding:4px; border:#f0e0e0 1px solid; font-size:100%;\n",
       "            }\n",
       "            .Relation tr:nth-child(odd){\n",
       "                background: #ffffff;\n",
       "            }\n",
       "            .Relation tr:nth-child(even){\n",
       "                background: #f3f1ff;\n",
       "            }\n",
       "            /* Tooltip container */\n",
       "            .djtooltip {\n",
       "            }\n",
       "            /* Tooltip text */\n",
       "            .djtooltip .djtooltiptext {\n",
       "                visibility: hidden;\n",
       "                width: 120px;\n",
       "                background-color: black;\n",
       "                color: #fff;\n",
       "                text-align: center;\n",
       "                padding: 5px 0;\n",
       "                border-radius: 6px;\n",
       "                /* Position the tooltip text - see examples below! */\n",
       "                position: absolute;\n",
       "                z-index: 1;\n",
       "            }\n",
       "            #primary {\n",
       "                font-weight: bold;\n",
       "                color: black;\n",
       "            }\n",
       "\n",
       "            #nonprimary {\n",
       "                font-weight: normal;\n",
       "                color: white;\n",
       "            }\n",
       "\n",
       "            /* Show the tooltip text when you mouse over the tooltip container */\n",
       "            .djtooltip:hover .djtooltiptext {\n",
       "                visibility: visible;\n",
       "            }\n",
       "        </style>\n",
       "        \n",
       "        <b>calculates the fitparameters of the log normal</b>\n",
       "            <div style=\"max-height:1000px;max-width:1500px;overflow:auto;\">\n",
       "            <table border=\"1\" class=\"Relation\">\n",
       "                <thead> <tr style=\"text-align: right;\"> <th> <div class=\"djtooltip\">\n",
       "                                <p id=\"primary\">username</p>\n",
       "                                <span class=\"djtooltiptext\">user in the lab</span>\n",
       "                            </div></th><th><div class=\"djtooltip\">\n",
       "                                <p id=\"primary\">experiment</p>\n",
       "                                <span class=\"djtooltiptext\">allowed here are sql datatypes.</span>\n",
       "                            </div></th><th><div class=\"djtooltip\">\n",
       "                                <p id=\"nonprimary\">mu</p>\n",
       "                                <span class=\"djtooltiptext\"></span>\n",
       "                            </div></th><th><div class=\"djtooltip\">\n",
       "                                <p id=\"nonprimary\">sd</p>\n",
       "                                <span class=\"djtooltiptext\"></span>\n",
       "                            </div></th><th><div class=\"djtooltip\">\n",
       "                                <p id=\"nonprimary\">denom</p>\n",
       "                                <span class=\"djtooltiptext\"></span>\n",
       "                            </div> </th> </tr> </thead>\n",
       "                <tbody> <tr> <td>Angus</td>\n",
       "<td>0</td>\n",
       "<td>-24.7348</td>\n",
       "<td>5.29388</td>\n",
       "<td>1.87926e-06</td></tr><tr><td>Angus</td>\n",
       "<td>1</td>\n",
       "<td>-9999.0</td>\n",
       "<td>-9999.0</td>\n",
       "<td>-9999.0</td></tr><tr><td>Angus</td>\n",
       "<td>2</td>\n",
       "<td>-7.54368</td>\n",
       "<td>3.43212</td>\n",
       "<td>0.017477</td></tr><tr><td>John</td>\n",
       "<td>0</td>\n",
       "<td>-8.04115</td>\n",
       "<td>3.71012</td>\n",
       "<td>0.0374183</td></tr><tr><td>John</td>\n",
       "<td>1</td>\n",
       "<td>1.7662</td>\n",
       "<td>1.27888</td>\n",
       "<td>4.70378</td></tr><tr><td>John</td>\n",
       "<td>2</td>\n",
       "<td>-28.2885</td>\n",
       "<td>5.87997</td>\n",
       "<td>2.17972e-06</td></tr><tr><td>John</td>\n",
       "<td>3</td>\n",
       "<td>-1.48691</td>\n",
       "<td>2.56832</td>\n",
       "<td>0.536715</td></tr><tr><td>John</td>\n",
       "<td>4</td>\n",
       "<td>-11.419</td>\n",
       "<td>3.89478</td>\n",
       "<td>0.00167759</td> </tr> </tbody>\n",
       "            </table>\n",
       "            \n",
       "            <p>Total: 8</p></div>\n",
       "            "
      ],
      "text/plain": [
       "*username    *experiment    mu           sd          denom         \n",
       "+----------+ +------------+ +----------+ +---------+ +------------+\n",
       "Angus        0              -24.7348     5.29388     1.87926e-06   \n",
       "Angus        1              -9999.0      -9999.0     -9999.0       \n",
       "Angus        2              -7.54368     3.43212     0.017477      \n",
       "John         0              -8.04115     3.71012     0.0374183     \n",
       "John         1              1.7662       1.27888     4.70378       \n",
       "John         2              -28.2885     5.87997     2.17972e-06   \n",
       "John         3              -1.48691     2.56832     0.536715      \n",
       "John         4              -11.419      3.89478     0.00167759    \n",
       " (Total: 8)"
      ]
     },
     "execution_count": 341,
     "metadata": {},
     "output_type": "execute_result"
    }
   ],
   "source": [
    "Lognormal()"
   ]
  },
  {
   "cell_type": "markdown",
   "metadata": {},
   "source": [
    "# Adding the Poisson fitter\n",
    "To add in a class that calculates the best-fit Poisson distribution to the spike interval histogram, I would add another Computed table, like the one for Lognormal(). However, I can't use the same binned data that I made with Peakhist() because to fit a Poisson I need bins with integer values. I therefore need to first create a new Computed table like Peakhist() but which will bin the data properly for the Poisson fitter. Let's call this table Peakhist_4Poisson()"
   ]
  },
  {
   "cell_type": "code",
   "execution_count": 399,
   "metadata": {},
   "outputs": [],
   "source": [
    "@schema\n",
    "class Peakhist_4Poisson(dj.Computed):\n",
    "    definition = \"\"\"\n",
    "    # calculates the peak interval histogram, \n",
    "    # in bins that will be appropriate for fitting \n",
    "    # to a Poisson distribution\n",
    "    -> Set\n",
    "    -----\n",
    "    \"\"\"\n",
    "\n",
    "    class DataPoint(dj.Part):\n",
    "        definition = \"\"\"\n",
    "        # Collected data.\n",
    "        -> Peakhist_4Poisson\n",
    "        datapoint : int\n",
    "        -----\n",
    "        bin_cen : float\n",
    "        prob : float\n",
    "        \"\"\"\n",
    "\n",
    "    def _make_tuples(self, key):\n",
    "        # This allows to call a method s.populate() to\n",
    "        # automatically populate the data with content\n",
    "        \n",
    "        self.insert1(key)\n",
    "        data  = (Set().DataPoint() & key)\n",
    "        x, y = data.fetch('x','y') # time step and voltage\n",
    "        threshold = -3*np.std(y) # use -3 standard deviations because -5 gave zero for John, 1\n",
    "        above = (y < threshold)\n",
    "        spikes = above[1:] < above[0:-1]\n",
    "        spikeTimes = x[np.where(spikes)]\n",
    "        spikeVoltages = y[np.where(spikes)]\n",
    "        ISI = np.diff(spikeTimes)\n",
    "        bins = range(0,16,1) # Need to be integers\n",
    "        Ns,bins,_ = np.histogram(ISI*10,bins=bins)\n",
    "        probabilities = Ns/np.sum(Ns)\n",
    "        bin_cens = np.array([int((bins[i]+bins[i+1])/2.) for i in range(len(bins)-1)])\n",
    "        b = []\n",
    "        for i in range(len(bin_cens)):\n",
    "            b.append(dict(key,datapoint=i,bin_cen=bin_cens[i], prob=probabilities[i]))\n",
    "        self.DataPoint().insert(b)"
   ]
  },
  {
   "cell_type": "markdown",
   "metadata": {},
   "source": [
    "Now I can make the Poisson() table which will compute and store the Poisson means for each experiment. I make sure to grab data from the Peakhist_4Poisson() table here."
   ]
  },
  {
   "cell_type": "code",
   "execution_count": null,
   "metadata": {},
   "outputs": [],
   "source": [
    "from scipy.special import factorial\n",
    "def poisson_model(x, lamb):\n",
    "    return (lamb**x/factorial(x)) * np.exp(-lamb)"
   ]
  },
  {
   "cell_type": "code",
   "execution_count": null,
   "metadata": {},
   "outputs": [],
   "source": [
    "@schema\n",
    "class Poisson(dj.Computed):\n",
    "    definition = \"\"\"\n",
    "    # calculates the mean of the best-fit Poisson distribution\n",
    "    -> Set\n",
    "    -----\n",
    "    mu    : float\n",
    "    \"\"\"\n",
    "    \n",
    "    def _make_tuples(self, key):\n",
    "        data  = (Peakhist_4Poisson().DataPoint() & key)\n",
    "        bin_cens, probs = data.fetch('bin_cen','prob')\n",
    "        try:\n",
    "            popt, pcov = opt.curve_fit(poisson_model, bin_cens, probs,maxfev=10000)\n",
    "            mu=popt[0]\n",
    "        except RuntimeError:\n",
    "            mu = -9999\n",
    "\n",
    "        self.insert1(dict(key, mu = mu))"
   ]
  },
  {
   "cell_type": "markdown",
   "metadata": {},
   "source": [
    "**Task 5​: As all data is now managed with a SQL backend, how would you query this data from the database directly? Provide the queries to (a) get the means of the Gaussian fits**"
   ]
  },
  {
   "cell_type": "code",
   "execution_count": 348,
   "metadata": {},
   "outputs": [
    {
     "data": {
      "text/plain": [
       "array([-2.47348e+01, -9.99900e+03, -7.54368e+00, -8.04115e+00,\n",
       "        1.76620e+00, -2.82885e+01, -1.48691e+00, -1.14190e+01])"
      ]
     },
     "execution_count": 348,
     "metadata": {},
     "output_type": "execute_result"
    }
   ],
   "source": [
    "Lognormal().fetch('mu') # gets the means of the log-normal fits to the 8 experiments"
   ]
  },
  {
   "cell_type": "markdown",
   "metadata": {},
   "source": [
    "**(b) get all Experiments with at least 50 spikes.**"
   ]
  },
  {
   "cell_type": "code",
   "execution_count": 384,
   "metadata": {},
   "outputs": [
    {
     "name": "stdout",
     "output_type": "stream",
     "text": [
      "Angus 0\n",
      "Angus 1\n",
      "Angus 2\n",
      "John 0\n",
      "John 1\n",
      "John 2\n",
      "John 3\n",
      "John 4\n"
     ]
    }
   ],
   "source": [
    "usernames,experiments=Experiment().fetch('username','experiment')\n",
    "for i in range(len(usernames)):\n",
    "    username=usernames[i]\n",
    "    experiment=experiments[i]\n",
    "    data = Set().DataPoint() & {'username':username,'experiment':experiment}\n",
    "    y=data.fetch('y')\n",
    "    threshold = -3*np.std(y) # use 3 standard deviations because 5 gave zero for John, 1\n",
    "    above = (y < threshold)\n",
    "    spikes = above[1:] < above[0:-1]\n",
    "    spikeVoltages = y[np.where(spikes)]\n",
    "    if len(spikeVoltages)>50:\n",
    "        print(username,experiment)"
   ]
  },
  {
   "cell_type": "markdown",
   "metadata": {},
   "source": [
    "Using -3 standard deviations as the threshold, all of the experiments have at least 50 spikes. This is not the case when for -5 standard deviations is used as the threshold, so the answer depends on how we choose to set the threshold.\n",
    "\n",
    "Had we saved spiketimes in a separate table, we would be able to answer this question with a single SQL query."
   ]
  }
 ],
 "metadata": {
  "anaconda-cloud": {},
  "kernelspec": {
   "display_name": "Python 3",
   "language": "python",
   "name": "python3"
  },
  "language_info": {
   "codemirror_mode": {
    "name": "ipython",
    "version": 3
   },
   "file_extension": ".py",
   "mimetype": "text/x-python",
   "name": "python",
   "nbconvert_exporter": "python",
   "pygments_lexer": "ipython3",
   "version": "3.7.2"
  }
 },
 "nbformat": 4,
 "nbformat_minor": 2
}
